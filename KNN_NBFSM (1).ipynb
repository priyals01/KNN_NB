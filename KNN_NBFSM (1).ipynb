{
  "nbformat": 4,
  "nbformat_minor": 0,
  "metadata": {
    "colab": {
      "provenance": []
    },
    "kernelspec": {
      "name": "python3",
      "display_name": "Python 3"
    },
    "language_info": {
      "name": "python"
    }
  },
  "cells": [
    {
      "cell_type": "code",
      "execution_count": null,
      "metadata": {
        "id": "3cfb1919"
      },
      "outputs": [],
      "source": [
        "import numpy as np\n",
        "import pandas as pd\n",
        "import matplotlib.pyplot as plt\n",
        "from sklearn.model_selection import train_test_split"
      ]
    },
    {
      "cell_type": "code",
      "source": [
        "from google.colab import drive #importing the drive\n",
        "drive.mount('/content/drive')"
      ],
      "metadata": {
        "colab": {
          "base_uri": "https://localhost:8080/"
        },
        "id": "rpKrinGoXw6p",
        "outputId": "b6235de9-6854-4f43-b2bc-d74d499a2b86"
      },
      "execution_count": null,
      "outputs": [
        {
          "output_type": "stream",
          "name": "stdout",
          "text": [
            "Drive already mounted at /content/drive; to attempt to forcibly remount, call drive.mount(\"/content/drive\", force_remount=True).\n"
          ]
        }
      ]
    },
    {
      "cell_type": "code",
      "execution_count": null,
      "metadata": {
        "id": "a3bb90f0"
      },
      "outputs": [],
      "source": [
        "# Loading the data from CSV files\n",
        "train_df = pd.read_csv('/content/train.csv')\n",
        "test_df = pd.read_csv('/content/test.csv')\n",
        "submission_df = pd.read_csv('/content/gender_submission.csv')"
      ]
    },
    {
      "cell_type": "code",
      "execution_count": null,
      "metadata": {
        "id": "188b669f"
      },
      "outputs": [],
      "source": [
        "def euclidean_distance(x1, x2):\n",
        "    return np.sqrt(np.sum((x1 - x2) ** 2))\n",
        "\n",
        "def k_nearest_neighbors(x_train, y_train, x_test, k):\n",
        "    predictions = []\n",
        "    for test_sample in x_test:\n",
        "        distances = [euclidean_distance(test_sample, train_sample) for train_sample in x_train]\n",
        "        sorted_indices = np.argsort(distances)\n",
        "        k_nearest_labels = y_train[sorted_indices[:k]]\n",
        "        predicted_class = np.bincount(k_nearest_labels).argmax()\n",
        "        predictions.append(predicted_class)\n",
        "    return predictions"
      ]
    },
    {
      "cell_type": "code",
      "source": [
        "# Preprocess the data\n",
        "train_df = train_df.drop(['PassengerId', 'Name', 'Ticket', 'Cabin', 'Embarked'], axis=1)\n",
        "test_df = test_df.drop(['PassengerId', 'Name', 'Ticket', 'Cabin', 'Embarked'], axis=1)"
      ],
      "metadata": {
        "id": "KfS4J1oJApKx"
      },
      "execution_count": null,
      "outputs": []
    },
    {
      "cell_type": "code",
      "source": [
        "# Fill missing values\n",
        "train_df['Age'].fillna(train_df['Age'].median(), inplace=True)\n",
        "test_df['Age'].fillna(test_df['Age'].median(), inplace=True)\n",
        "test_df['Fare'].fillna(test_df['Fare'].median(), inplace=True)"
      ],
      "metadata": {
        "id": "v7EGWXmDA-En"
      },
      "execution_count": null,
      "outputs": []
    },
    {
      "cell_type": "code",
      "source": [
        "# Separate features and labels\n",
        "x_train = train_df.drop('Survived', axis=1).values\n",
        "y_train = train_df['Survived'].values\n",
        "x_test = test_df.values"
      ],
      "metadata": {
        "id": "vznP_Kk6Bs2p"
      },
      "execution_count": null,
      "outputs": []
    },
    {
      "cell_type": "code",
      "source": [
        "k = 4\n",
        "\n",
        "# Run K-Nearest Neighbors algorithm\n",
        "knn_predictions = k_nearest_neighbors(x_train, y_train, x_test, k)\n",
        "\n",
        "# Prepare submission file\n",
        "submission_df = pd.read_csv('/content/gender_submission.csv')\n",
        "submission_df['Survived'] = knn_predictions\n",
        "submission_df.to_csv('/content/knn_submissive.csv', index=False)"
      ],
      "metadata": {
        "id": "jTh8uR4KR55g"
      },
      "execution_count": null,
      "outputs": []
    },
    {
      "cell_type": "code",
      "source": [
        "# Calculate accuracy score\n",
        "y_train_pred = k_nearest_neighbors(x_train, y_train, x_train, k)\n",
        "accuracy = np.mean(y_train_pred == y_train) * 100\n",
        "print(f\"Accuracy on training data: {accuracy:.2f}%\")"
      ],
      "metadata": {
        "colab": {
          "base_uri": "https://localhost:8080/"
        },
        "id": "YGoFxv4CCE5n",
        "outputId": "4a5f92fa-1261-4a1c-a25d-22898b0a71b2"
      },
      "execution_count": null,
      "outputs": [
        {
          "output_type": "stream",
          "name": "stdout",
          "text": [
            "Accuracy on training data: 80.58%\n"
          ]
        }
      ]
    },
    {
      "cell_type": "code",
      "source": [
        "plt.bar(['Accuracy'], [accuracy])\n",
        "plt.ylim([0, 100])\n",
        "plt.ylabel('Accuracy (%)')\n",
        "plt.title('K-Nearest Neighbors Accuracy')\n",
        "plt.show()"
      ],
      "metadata": {
        "colab": {
          "base_uri": "https://localhost:8080/",
          "height": 452
        },
        "id": "eihLXEGyELKF",
        "outputId": "00fe4e69-79d9-48e9-9c3d-95d7b607c297"
      },
      "execution_count": null,
      "outputs": [
        {
          "output_type": "display_data",
          "data": {
            "text/plain": [
              "<Figure size 640x480 with 1 Axes>"
            ],
            "image/png": "[encoded data removed]"
          },
          "metadata": {}
        }
      ]
    },
    {
      "cell_type": "code",
      "source": [],
      "metadata": {
        "id": "UO-tAEtNEaiP"
      },
      "execution_count": null,
      "outputs": []
    },
    {
      "cell_type": "code",
      "source": [
        "#Naive Bayes\n",
        "\n",
        "\n",
        "def calculate_prior_probability(labels):\n",
        "    unique_labels, counts = np.unique(labels, return_counts=True)\n",
        "    return counts / len(labels)"
      ],
      "metadata": {
        "id": "_XB9uYKwP3wT"
      },
      "execution_count": null,
      "outputs": []
    },
    {
      "cell_type": "code",
      "source": [
        "import numpy as np\n",
        "import pandas as pd\n",
        "\n",
        "def c_prior_probability(labels):\n",
        "    unique_labels, counts = np.unique(labels, return_counts=1)\n",
        "    return counts / len(labels)\n",
        "\n",
        "def c_likelihood(features, labels, feature_value, label_value):\n",
        "    numer = np.sum((features == feature_value) & (labels == label_value))\n",
        "    denom = np.sum(labels == label_value)\n",
        "    return numer / denom\n",
        "\n",
        "def c_posterior_probabilities(features, labels, test_sample):\n",
        "    num_samples, num_features = features.shape\n",
        "    num_labels = len(np.unique(labels))\n",
        "    posterior_pro = np.zeros(num_labels)\n",
        "    \n",
        "    for label_value in range(num_labels):\n",
        "        likelihood = 2.0\n",
        "        for feature_idx in range(num_features):\n",
        "            feature_values = np.unique(features[:, feature_idx])\n",
        "            if test_sample[feature_idx] not in feature_values:\n",
        "                # If the feature value is not observed in training data, assign a small probability\n",
        "                likelihood *= 1e-20\n",
        "            else:\n",
        "                likelihood *= c_likelihood(features[:, feature_idx], labels, test_sample[feature_idx], label_value)\n",
        "        prior_prob = c_prior_probability(labels)[label_value]\n",
        "        posterior_pro[label_value] = likelihood * prior_prob\n",
        "    \n",
        "    return posterior_pro / np.sum(posterior_pro)\n",
        "\n",
        "def naive_bayes(x_train, y_train, x_test):\n",
        "    predictions = []\n",
        "    for test_sample in x_test:\n",
        "        posterior_pro = c_posterior_probabilities(x_train, y_train, test_sample)\n",
        "        predicted_class = np.argmax(posterior_pro)\n",
        "        predictions.append(predicted_class)\n",
        "    return predictions\n",
        "\n",
        "# Load the data from CSV files\n",
        "train_df = pd.read_csv('/content/train.csv')\n",
        "test_df = pd.read_csv('/content/test.csv')\n",
        "\n",
        "# Preprocess the data\n",
        "train_df = train_df.drop(['PassengerId', 'Name', 'Ticket', 'Cabin', 'Embarked'], axis=1)\n",
        "test_df = test_df.drop(['PassengerId', 'Name', 'Ticket', 'Cabin', 'Embarked'], axis=1)\n",
        "\n",
        "# Fill missing values\n",
        "train_df['Age'].fillna(train_df['Age'].median(), inplace=True)\n",
        "test_df['Age'].fillna(test_df['Age'].median(), inplace=True)\n",
        "test_df['Fare'].fillna(test_df['Fare'].median(), inplace=True)\n",
        "\n",
        "# Convert categorical variables to numerical\n",
        "train_df['Sex'] = train_df['Sex'].map({'female': 0, 'male': 1}).astype(int)\n",
        "test_df['Sex'] = test_df['Sex'].map({'female': 0, 'male': 1}).astype(int)\n",
        "\n",
        "# Separate features and labels\n",
        "x_train = train_df.drop('Survived', axis=1).values\n",
        "y_train = train_df['Survived'].values\n",
        "x_test = test_df.values\n",
        "\n",
        "# Run Naive Bayes algorithm\n",
        "naive_bayes_predictions = naive_bayes(x_train, y_train, x_test)\n",
        "\n",
        "# Prepare submission file\n",
        "submission_df = pd.read_csv('/content/gender_submission.csv')\n",
        "submission_df['Survived'] = naive_bayes_predictions\n",
        "submission_df.to_csv('/content/naivebayes.csv', index=0)\n"
      ],
      "metadata": {
        "colab": {
          "base_uri": "https://localhost:8080/"
        },
        "id": "3OjvOCuXTMaN",
        "outputId": "43b55974-81f1-47f5-f657-193c0643f616"
      },
      "execution_count": null,
      "outputs": [
        {
          "output_type": "stream",
          "name": "stderr",
          "text": [
            "<ipython-input-55-df9f8a690bb3>:30: RuntimeWarning: invalid value encountered in true_divide\n",
            "  return posterior_probs / np.sum(posterior_probs)\n"
          ]
        }
      ]
    },
    {
      "cell_type": "code",
      "source": [
        "\n",
        "# Calculate accuracy score\n",
        "y_train_pred = naive_bayes(x_train, y_train, x_train)\n",
        "accuracy = np.mean(y_train_pred == y_train) * 100\n",
        "print(f\"Accuracy on training data: {accuracy:.2f}%\")"
      ],
      "metadata": {
        "colab": {
          "base_uri": "https://localhost:8080/"
        },
        "id": "VgjzNcSHT0kV",
        "outputId": "c96c0061-3294-4830-e88e-5d6b11357c22"
      },
      "execution_count": null,
      "outputs": [
        {
          "output_type": "stream",
          "name": "stdout",
          "text": [
            "Accuracy on training data: 86.64%\n"
          ]
        }
      ]
    }
  ]
}